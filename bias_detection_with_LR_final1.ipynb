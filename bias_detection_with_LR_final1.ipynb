{
 "cells": [
  {
   "cell_type": "code",
   "execution_count": 78,
   "id": "3d0b7211-b360-48a2-b743-c15080f2cf38",
   "metadata": {},
   "outputs": [
    {
     "data": {
      "text/html": [
       "<div>\n",
       "<style scoped>\n",
       "    .dataframe tbody tr th:only-of-type {\n",
       "        vertical-align: middle;\n",
       "    }\n",
       "\n",
       "    .dataframe tbody tr th {\n",
       "        vertical-align: top;\n",
       "    }\n",
       "\n",
       "    .dataframe thead th {\n",
       "        text-align: right;\n",
       "    }\n",
       "</style>\n",
       "<table border=\"1\" class=\"dataframe\">\n",
       "  <thead>\n",
       "    <tr style=\"text-align: right;\">\n",
       "      <th></th>\n",
       "      <th>Job Applicant Name</th>\n",
       "      <th>Age</th>\n",
       "      <th>Gender</th>\n",
       "      <th>Race</th>\n",
       "      <th>Ethnicity</th>\n",
       "      <th>Resume</th>\n",
       "      <th>Job Roles</th>\n",
       "      <th>Job Description</th>\n",
       "      <th>Best Match</th>\n",
       "    </tr>\n",
       "  </thead>\n",
       "  <tbody>\n",
       "    <tr>\n",
       "      <th>0</th>\n",
       "      <td>Daisuke Mori</td>\n",
       "      <td>29</td>\n",
       "      <td>Male</td>\n",
       "      <td>Mongoloid/Asian</td>\n",
       "      <td>Vietnamese</td>\n",
       "      <td>Proficient in Injury Prevention, Motivation, N...</td>\n",
       "      <td>Fitness Coach</td>\n",
       "      <td>A Fitness Coach is responsible for helping cl...</td>\n",
       "      <td>0</td>\n",
       "    </tr>\n",
       "    <tr>\n",
       "      <th>1</th>\n",
       "      <td>Taichi Shimizu</td>\n",
       "      <td>31</td>\n",
       "      <td>Male</td>\n",
       "      <td>Mongoloid/Asian</td>\n",
       "      <td>Filipino</td>\n",
       "      <td>Proficient in Healthcare, Pharmacology, Medica...</td>\n",
       "      <td>Physician</td>\n",
       "      <td>Diagnose and treat illnesses, prescribe medica...</td>\n",
       "      <td>0</td>\n",
       "    </tr>\n",
       "    <tr>\n",
       "      <th>2</th>\n",
       "      <td>Sarah Martin</td>\n",
       "      <td>46</td>\n",
       "      <td>Female</td>\n",
       "      <td>White/Caucasian</td>\n",
       "      <td>Dutch</td>\n",
       "      <td>Proficient in Forecasting, Financial Modelling...</td>\n",
       "      <td>Financial Analyst</td>\n",
       "      <td>As a Financial Analyst, you will be responsibl...</td>\n",
       "      <td>0</td>\n",
       "    </tr>\n",
       "    <tr>\n",
       "      <th>3</th>\n",
       "      <td>Keith Hughes</td>\n",
       "      <td>43</td>\n",
       "      <td>Male</td>\n",
       "      <td>Negroid/Black</td>\n",
       "      <td>Caribbean</td>\n",
       "      <td>Proficient in Budgeting, Supply Chain Optimiza...</td>\n",
       "      <td>Supply Chain Manager</td>\n",
       "      <td>A Supply Chain Manager oversees the entire sup...</td>\n",
       "      <td>1</td>\n",
       "    </tr>\n",
       "    <tr>\n",
       "      <th>4</th>\n",
       "      <td>James Davis</td>\n",
       "      <td>49</td>\n",
       "      <td>Male</td>\n",
       "      <td>White/Caucasian</td>\n",
       "      <td>English</td>\n",
       "      <td>Proficient in Logistics, Negotiation, Procurem...</td>\n",
       "      <td>Supply Chain Manager</td>\n",
       "      <td>A Supply Chain Manager oversees the entire sup...</td>\n",
       "      <td>1</td>\n",
       "    </tr>\n",
       "  </tbody>\n",
       "</table>\n",
       "</div>"
      ],
      "text/plain": [
       "  Job Applicant Name  Age  Gender             Race   Ethnicity  \\\n",
       "0       Daisuke Mori   29    Male  Mongoloid/Asian  Vietnamese   \n",
       "1     Taichi Shimizu   31    Male  Mongoloid/Asian    Filipino   \n",
       "2       Sarah Martin   46  Female  White/Caucasian       Dutch   \n",
       "3       Keith Hughes   43    Male    Negroid/Black   Caribbean   \n",
       "4        James Davis   49    Male  White/Caucasian     English   \n",
       "\n",
       "                                              Resume             Job Roles  \\\n",
       "0  Proficient in Injury Prevention, Motivation, N...         Fitness Coach   \n",
       "1  Proficient in Healthcare, Pharmacology, Medica...             Physician   \n",
       "2  Proficient in Forecasting, Financial Modelling...     Financial Analyst   \n",
       "3  Proficient in Budgeting, Supply Chain Optimiza...  Supply Chain Manager   \n",
       "4  Proficient in Logistics, Negotiation, Procurem...  Supply Chain Manager   \n",
       "\n",
       "                                     Job Description  Best Match  \n",
       "0   A Fitness Coach is responsible for helping cl...           0  \n",
       "1  Diagnose and treat illnesses, prescribe medica...           0  \n",
       "2  As a Financial Analyst, you will be responsibl...           0  \n",
       "3  A Supply Chain Manager oversees the entire sup...           1  \n",
       "4  A Supply Chain Manager oversees the entire sup...           1  "
      ]
     },
     "execution_count": 78,
     "metadata": {},
     "output_type": "execute_result"
    }
   ],
   "source": [
    "import pandas as pd\n",
    "\n",
    "# Load the dataset\n",
    "df = pd.read_csv(\"job_applicant_dataset.csv\")\n",
    "\n",
    "# Show the first 5 rows\n",
    "df.head()"
   ]
  },
  {
   "cell_type": "code",
   "execution_count": 2,
   "id": "0bd97132-1194-402b-bf13-47fe4f6a2005",
   "metadata": {},
   "outputs": [
    {
     "name": "stdout",
     "output_type": "stream",
     "text": [
      "<class 'pandas.core.frame.DataFrame'>\n",
      "RangeIndex: 10000 entries, 0 to 9999\n",
      "Data columns (total 9 columns):\n",
      " #   Column              Non-Null Count  Dtype \n",
      "---  ------              --------------  ----- \n",
      " 0   Job Applicant Name  10000 non-null  object\n",
      " 1   Age                 10000 non-null  int64 \n",
      " 2   Gender              10000 non-null  object\n",
      " 3   Race                10000 non-null  object\n",
      " 4   Ethnicity           10000 non-null  object\n",
      " 5   Resume              10000 non-null  object\n",
      " 6   Job Roles           10000 non-null  object\n",
      " 7   Job Description     10000 non-null  object\n",
      " 8   Best Match          10000 non-null  int64 \n",
      "dtypes: int64(2), object(7)\n",
      "memory usage: 703.3+ KB\n"
     ]
    }
   ],
   "source": [
    "df.info()"
   ]
  },
  {
   "cell_type": "code",
   "execution_count": 3,
   "id": "9627ce99-50c6-4aab-acf0-115fc0a0f061",
   "metadata": {},
   "outputs": [
    {
     "data": {
      "text/plain": [
       "Job Applicant Name    0\n",
       "Age                   0\n",
       "Gender                0\n",
       "Race                  0\n",
       "Ethnicity             0\n",
       "Resume                0\n",
       "Job Roles             0\n",
       "Job Description       0\n",
       "Best Match            0\n",
       "dtype: int64"
      ]
     },
     "execution_count": 3,
     "metadata": {},
     "output_type": "execute_result"
    }
   ],
   "source": [
    "df.isnull().sum()"
   ]
  },
  {
   "cell_type": "code",
   "execution_count": 4,
   "id": "1fcfe088-adda-4d0f-b8dd-4b0dfb05418c",
   "metadata": {},
   "outputs": [
    {
     "data": {
      "text/plain": [
       "Gender\n",
       "Female    0.354382\n",
       "Male      0.612572\n",
       "Name: Best Match, dtype: float64"
      ]
     },
     "execution_count": 4,
     "metadata": {},
     "output_type": "execute_result"
    }
   ],
   "source": [
    "df.groupby('Gender')['Best Match'].mean()\n",
    "#This tells the percentage of applicants selected (Best Match = 1) for each gender."
   ]
  },
  {
   "cell_type": "code",
   "execution_count": 5,
   "id": "b0573a5e-fcb9-4f42-8dd1-570d8b887522",
   "metadata": {},
   "outputs": [
    {
     "name": "stdout",
     "output_type": "stream",
     "text": [
      "Disparate Impact Ratio (Female vs Male): 0.58\n"
     ]
    }
   ],
   "source": [
    "# Calculate selection rates\n",
    "def get_selection_rate(df, gender):\n",
    "    return df[df['Gender'] == gender]['Best Match'].mean()\n",
    "\n",
    "rate_female = get_selection_rate(df, 'Female')\n",
    "rate_male = get_selection_rate(df, 'Male')\n",
    "dir_gender = round(rate_female / rate_male, 2) if rate_male > 0 else 0\n",
    "\n",
    "print(f\"Disparate Impact Ratio (Female vs Male): {dir_gender}\")"
   ]
  },
  {
   "cell_type": "code",
   "execution_count": 6,
   "id": "f99e4c05-2e6e-49a4-9e9f-dd84fb7017f5",
   "metadata": {},
   "outputs": [
    {
     "data": {
      "image/png": "[encoded data removed]",
      "text/plain": [
       "<Figure size 640x480 with 1 Axes>"
      ]
     },
     "metadata": {},
     "output_type": "display_data"
    }
   ],
   "source": [
    "# As DIR is 0.58<0.8. It would be considered potentially biased \n",
    "import seaborn as sns\n",
    "import matplotlib.pyplot as plt\n",
    "\n",
    "sns.barplot(x='Gender', y='Best Match', data=df)\n",
    "plt.title('Selection Rate by Gender')\n",
    "plt.ylabel('Mean Selection Rate')\n",
    "plt.show()\n"
   ]
  },
  {
   "cell_type": "code",
   "execution_count": 7,
   "id": "c2766f7f-8586-4ec4-879f-1d487b904a52",
   "metadata": {},
   "outputs": [
    {
     "name": "stdout",
     "output_type": "stream",
     "text": [
      "Minimum Age: 25\n",
      "Maximum Age: 55\n"
     ]
    }
   ],
   "source": [
    "# Find the min and max age\n",
    "min_age, max_age = df['Age'].min(), df['Age'].max()\n",
    "print(f\"Minimum Age: {min_age}\\nMaximum Age: {max_age}\")"
   ]
  },
  {
   "cell_type": "code",
   "execution_count": 8,
   "id": "5789967d-89ca-43f7-8ef6-0ac94ac50ee7",
   "metadata": {},
   "outputs": [
    {
     "data": {
      "text/plain": [
       "AgeGroup\n",
       "25-34    3194\n",
       "35-44    3248\n",
       "45-55    3558\n",
       "Name: count, dtype: int64"
      ]
     },
     "execution_count": 8,
     "metadata": {},
     "output_type": "execute_result"
    }
   ],
   "source": [
    "# Create age bins (10-year intervals)\n",
    "bins = [25, 35, 45, 56]\n",
    "labels = ['25-34', '35-44', '45-55']\n",
    "\n",
    "df['AgeGroup'] = pd.cut(df['Age'], bins=bins, labels=labels, right=False)\n",
    "df['AgeGroup'].value_counts().sort_index()"
   ]
  },
  {
   "cell_type": "code",
   "execution_count": 9,
   "id": "abe7638b-c7ec-46ba-9c84-4488219ef401",
   "metadata": {},
   "outputs": [
    {
     "name": "stdout",
     "output_type": "stream",
     "text": [
      "AgeGroup\n",
      "25-34    0.482780\n",
      "35-44    0.477525\n",
      "45-55    0.493817\n",
      "Name: Best Match, dtype: float64\n"
     ]
    }
   ],
   "source": [
    "# Group by age range and calculate mean of 'Best Match'\n",
    "selection_rates_age = df.groupby('AgeGroup')['Best Match'].mean()\n",
    "print(selection_rates_age)"
   ]
  },
  {
   "cell_type": "code",
   "execution_count": 10,
   "id": "d51f463e-f0cf-477e-8b97-f75ea0a2f10e",
   "metadata": {},
   "outputs": [
    {
     "name": "stdout",
     "output_type": "stream",
     "text": [
      "Min/Max Selection Rate Ratio: 0.967\n"
     ]
    }
   ],
   "source": [
    "min_max_ratio = (selection_rates_age.min() / selection_rates_age.max()) if selection_rates_age.max() > 0 else 0\n",
    "print(f\"Min/Max Selection Rate Ratio: {min_max_ratio:.3f}\")"
   ]
  },
  {
   "cell_type": "code",
   "execution_count": 11,
   "id": "84f2f9b4-e478-40a2-ab85-28df30467401",
   "metadata": {},
   "outputs": [
    {
     "name": "stdout",
     "output_type": "stream",
     "text": [
      "Standard Deviation of Selection Rates: 0.0083\n"
     ]
    }
   ],
   "source": [
    "print(f\"Standard Deviation of Selection Rates: {selection_rates_age.std():.4f}\")"
   ]
  },
  {
   "cell_type": "code",
   "execution_count": 12,
   "id": "800d1497-d8a8-4216-97d3-84077555aef3",
   "metadata": {},
   "outputs": [
    {
     "data": {
      "image/png": "[encoded data removed]",
      "text/plain": [
       "<Figure size 800x500 with 1 Axes>"
      ]
     },
     "metadata": {},
     "output_type": "display_data"
    }
   ],
   "source": [
    "import matplotlib.pyplot as plt\n",
    "import seaborn as sns\n",
    "\n",
    "plt.figure(figsize=(8, 5))\n",
    "ax = sns.barplot(x=selection_rates_age.index, y=selection_rates_age.values, palette=\"Blues\")\n",
    "plt.title(\"Selection Rate by Age Group\")\n",
    "plt.xlabel(\"Age Group\")\n",
    "plt.ylabel(\"Selection Rate\")\n",
    "plt.ylim(0, 1)\n",
    "plt.grid(axis='y', linestyle='--', alpha=0.7)\n",
    "\n",
    "for bar in ax.patches:\n",
    "    ax.text(bar.get_x() + bar.get_width() / 2, bar.get_height() + 0.015, f\"{bar.get_height():.2f}\", \n",
    "            ha='center', fontsize=10)\n",
    "\n",
    "plt.tight_layout()\n",
    "plt.show()"
   ]
  },
  {
   "cell_type": "code",
   "execution_count": 21,
   "id": "2b0a2eb3-dc7f-4f23-a92b-503dbf43939a",
   "metadata": {},
   "outputs": [],
   "source": [
    "# \"We grouped applicants into three age categories (25–34, 35–44, and 45–55) and analyzed the selection rates (Best Match = 1).\n",
    "# The rates were 48.3%, 47.8%, and 49.4%, respectively.\n",
    "\n",
    "# The Min/Max selection rate ratio was 0.97, and the standard deviation was just 0.0065, indicating no significant age-related disparity.\n",
    "# Thus, we can conclude that the shortlisting process in this dataset is likely age-neutral within this range.” "
   ]
  },
  {
   "cell_type": "code",
   "execution_count": 13,
   "id": "e547ab7e",
   "metadata": {},
   "outputs": [
    {
     "name": "stdout",
     "output_type": "stream",
     "text": [
      "Types of Races in the Dataset: ['Mongoloid/Asian' 'White/Caucasian' 'Negroid/Black']\n"
     ]
    }
   ],
   "source": [
    "# Section 1: Types of Races\n",
    "print(\"Types of Races in the Dataset:\", df['Race'].unique())"
   ]
  },
  {
   "cell_type": "code",
   "execution_count": 14,
   "id": "ddfc4b59",
   "metadata": {},
   "outputs": [
    {
     "data": {
      "text/plain": [
       "Race\n",
       "Mongoloid/Asian    0.488227\n",
       "Negroid/Black      0.485852\n",
       "White/Caucasian    0.480891\n",
       "Name: Best Match, dtype: float64"
      ]
     },
     "execution_count": 14,
     "metadata": {},
     "output_type": "execute_result"
    }
   ],
   "source": [
    "df.groupby('Race')['Best Match'].mean()"
   ]
  },
  {
   "cell_type": "code",
   "execution_count": 15,
   "id": "239ebcba",
   "metadata": {},
   "outputs": [
    {
     "data": {
      "image/png": "[encoded data removed]",
      "text/plain": [
       "<Figure size 640x480 with 1 Axes>"
      ]
     },
     "metadata": {},
     "output_type": "display_data"
    }
   ],
   "source": [
    "if {'Race', 'Best Match'}.issubset(df.columns):\n",
    "    import matplotlib.pyplot as plt\n",
    "    import seaborn as sns\n",
    "\n",
    "    rates = df.groupby('Race')['Best Match'].mean().reset_index()\n",
    "    sns.barplot(data=rates, x='Race', y='Best Match', palette='Set3')\n",
    "    plt.title('Shortlisting Rate by Race')\n",
    "    plt.xlabel('Race')\n",
    "    plt.ylabel('Shortlisting Rate')\n",
    "    plt.xticks(rotation=45, ha='right')\n",
    "    plt.ylim(0, 1)\n",
    "    plt.tight_layout()\n",
    "    plt.show()\n",
    "else:\n",
    "    print(\"Required columns missing.\")"
   ]
  },
  {
   "cell_type": "code",
   "execution_count": 16,
   "id": "ecb83cbc",
   "metadata": {},
   "outputs": [
    {
     "name": "stdout",
     "output_type": "stream",
     "text": [
      "Types of Ethnicities: ['Vietnamese' 'Filipino' 'Dutch' 'Caribbean' 'English' 'African' 'Thai'\n",
      " 'French' 'Indian' 'Ethiopian' 'Korean' 'Irish' 'Kenyan' 'Italian'\n",
      " 'Polish' 'Jamaican' 'Chinese' 'German' 'Nigerian' 'Japanese' 'Ghanaian']\n"
     ]
    }
   ],
   "source": [
    "# Section 1: Types of Ethnicities\n",
    "print(\"Types of Ethnicities:\", df['Ethnicity'].unique())"
   ]
  },
  {
   "cell_type": "code",
   "execution_count": 17,
   "id": "59be53a9",
   "metadata": {},
   "outputs": [
    {
     "data": {
      "text/plain": [
       "Ethnicity\n",
       "African       0.485772\n",
       "Caribbean     0.495781\n",
       "Chinese       0.456914\n",
       "Dutch         0.484076\n",
       "English       0.455102\n",
       "Ethiopian     0.472527\n",
       "Filipino      0.470238\n",
       "French        0.461864\n",
       "German        0.479482\n",
       "Ghanaian      0.463265\n",
       "Indian        0.510917\n",
       "Irish         0.503030\n",
       "Italian       0.485714\n",
       "Jamaican      0.525974\n",
       "Japanese      0.468880\n",
       "Kenyan        0.468560\n",
       "Korean        0.500000\n",
       "Nigerian      0.491228\n",
       "Polish        0.496855\n",
       "Thai          0.488789\n",
       "Vietnamese    0.523715\n",
       "Name: Best Match, dtype: float64"
      ]
     },
     "execution_count": 17,
     "metadata": {},
     "output_type": "execute_result"
    }
   ],
   "source": [
    "# Section 2: Shortlisting Rates by Ethnicity\n",
    "df.groupby('Ethnicity')['Best Match'].mean()"
   ]
  },
  {
   "cell_type": "code",
   "execution_count": 18,
   "id": "e1c7449d",
   "metadata": {},
   "outputs": [
    {
     "data": {
      "image/png": "[encoded data removed]",
      "text/plain": [
       "<Figure size 640x480 with 1 Axes>"
      ]
     },
     "metadata": {},
     "output_type": "display_data"
    }
   ],
   "source": [
    "import matplotlib.pyplot as plt\n",
    "import seaborn as sns\n",
    "\n",
    "rates = df.groupby('Ethnicity')['Best Match'].mean().reset_index()\n",
    "sns.barplot(data=rates, x='Ethnicity', y='Best Match', palette='Set2')\n",
    "plt.title('Shortlisting Rate by Ethnicity')\n",
    "plt.xticks(rotation=45, ha='right')\n",
    "plt.ylim(0, 1)\n",
    "plt.tight_layout()\n",
    "plt.show()"
   ]
  },
  {
   "cell_type": "code",
   "execution_count": 19,
   "id": "d7a91ad7-d700-4b8e-a5a0-39e4d8e078b0",
   "metadata": {},
   "outputs": [
    {
     "name": "stdout",
     "output_type": "stream",
     "text": [
      "Accuracy: 0.6510\n",
      "Precision: 0.6422\n",
      "Recall: 0.6448\n",
      "F1 Score: 0.6435\n",
      "\n",
      "Classification Report:\n",
      "               precision    recall  f1-score   support\n",
      "\n",
      "           0       0.66      0.66      0.66      1023\n",
      "           1       0.64      0.64      0.64       977\n",
      "\n",
      "    accuracy                           0.65      2000\n",
      "   macro avg       0.65      0.65      0.65      2000\n",
      "weighted avg       0.65      0.65      0.65      2000\n",
      "\n",
      "Confusion Matrix:\n",
      " [[672 351]\n",
      " [347 630]]\n"
     ]
    }
   ],
   "source": [
    "import pandas as pd\n",
    "from sklearn.preprocessing import LabelEncoder\n",
    "from sklearn.feature_extraction.text import TfidfVectorizer\n",
    "from sklearn.model_selection import train_test_split\n",
    "from sklearn.linear_model import LogisticRegression\n",
    "from sklearn.metrics import accuracy_score, precision_score, recall_score, f1_score, classification_report, confusion_matrix\n",
    "from scipy.sparse import hstack\n",
    "\n",
    "df = pd.read_csv(\"job_applicant_dataset.csv\")\n",
    "\n",
    "# Encode categorical features\n",
    "for col in ['Gender', 'Race', 'Ethnicity']:\n",
    "    df[col] = LabelEncoder().fit_transform(df[col])\n",
    "\n",
    "# Combine text columns\n",
    "df['Text'] = df['Resume'].fillna('') + ' ' + df['Job Description'].fillna('')\n",
    "\n",
    "# Vectorize text and combine with structured data\n",
    "X_text = TfidfVectorizer(stop_words='english', max_features=300).fit_transform(df['Text'])\n",
    "X_struct = df[['Age', 'Gender', 'Race', 'Ethnicity']].values\n",
    "X = hstack([X_text, X_struct])\n",
    "\n",
    "y = df['Best Match'].values\n",
    "\n",
    "X_train, X_test, y_train, y_test = train_test_split(X, y, test_size=0.2, random_state=42)\n",
    "\n",
    "model = LogisticRegression(max_iter=1000).fit(X_train, y_train)\n",
    "y_pred = model.predict(X_test)\n",
    "\n",
    "print(f\"Accuracy: {accuracy_score(y_test, y_pred):.4f}\")\n",
    "print(f\"Precision: {precision_score(y_test, y_pred, zero_division=0):.4f}\")\n",
    "print(f\"Recall: {recall_score(y_test, y_pred, zero_division=0):.4f}\")\n",
    "print(f\"F1 Score: {f1_score(y_test, y_pred, zero_division=0):.4f}\\n\")\n",
    "print(\"Classification Report:\\n\", classification_report(y_test, y_pred))\n",
    "print(\"Confusion Matrix:\\n\", confusion_matrix(y_test, y_pred))"
   ]
  },
  {
   "cell_type": "code",
   "execution_count": null,
   "id": "17e0a6fe",
   "metadata": {},
   "outputs": [],
   "source": []
  },
  {
   "cell_type": "code",
   "execution_count": 20,
   "id": "036cba57",
   "metadata": {},
   "outputs": [
    {
     "name": "stdout",
     "output_type": "stream",
     "text": [
      "Overall Accuracy: 0.651\n",
      "\n",
      "---  Fairness Metrics for Sensitive Attribute: Gender ---\n",
      " Selection Rates by Group:\n",
      "  0: 0.003\n",
      "  1: 0.949\n",
      " Demographic Parity Difference: 0.945\n",
      " Disparate Impact Ratio: 0.003\n",
      " True Positive Rates by Group:\n",
      "  0: 0.009\n",
      "  1: 0.989\n",
      " False Positive Rates by Group:\n",
      "  0: 0.000\n",
      "  1: 0.884\n",
      " Equalized Odds TPR Difference: 0.980\n",
      " Equalized Odds FPR Difference: 0.884\n",
      "\n",
      "---  Fairness Metrics for Sensitive Attribute: Race ---\n",
      " Selection Rates by Group:\n",
      "  0: 0.500\n",
      "  1: 0.491\n",
      "  2: 0.481\n",
      " True Positive Rates by Group:\n",
      "  0: 0.667\n",
      "  1: 0.646\n",
      "  2: 0.621\n",
      " False Positive Rates by Group:\n",
      "  0: 0.335\n",
      "  1: 0.334\n",
      "  2: 0.358\n",
      " Equalized Odds TPR Difference: 0.046\n",
      " Equalized Odds FPR Difference: 0.024\n",
      "\n"
     ]
    }
   ],
   "source": [
    "import numpy as np\n",
    "from sklearn.metrics import accuracy_score\n",
    "from sklearn.model_selection import train_test_split\n",
    "\n",
    "def group_metrics(y_true, y_pred, attr):\n",
    "    groups = np.unique(attr)\n",
    "    selection_rates = {}\n",
    "    tprs = {}\n",
    "    fprs = {}\n",
    "\n",
    "    for g in groups:\n",
    "        mask = (attr == g)\n",
    "        y_true_g = y_true[mask]\n",
    "        y_pred_g = y_pred[mask]\n",
    "\n",
    "        selection_rates[g] = y_pred_g.mean()\n",
    "\n",
    "        pos_mask = (y_true_g == 1)\n",
    "        neg_mask = (y_true_g == 0)\n",
    "\n",
    "        tprs[g] = (y_pred_g[pos_mask] == 1).mean() if pos_mask.any() else np.nan\n",
    "        fprs[g] = (y_pred_g[neg_mask] == 1).mean() if neg_mask.any() else np.nan\n",
    "\n",
    "    dp_diff = abs(selection_rates[groups[0]] - selection_rates[groups[1]]) if len(groups) == 2 else None\n",
    "    diratio = min(selection_rates.values()) / max(selection_rates.values()) if len(groups) == 2 else None\n",
    "    tpr_diff = max(tprs.values()) - min(tprs.values()) if len(tprs) > 1 else None\n",
    "    fpr_diff = max(fprs.values()) - min(fprs.values()) if len(fprs) > 1 else None\n",
    "\n",
    "    return selection_rates, dp_diff, diratio, tprs, fprs, tpr_diff, fpr_diff\n",
    "\n",
    "def evaluate_fairness_all_attributes(y_true, y_pred, df_test, sensitive_columns):\n",
    "    print(f\"Overall Accuracy: {accuracy_score(y_true, y_pred):.3f}\\n\")\n",
    "\n",
    "    for attr in sensitive_columns:\n",
    "        print(f\"---  Fairness Metrics for Sensitive Attribute: {attr} ---\")\n",
    "        sensitive_attr = df_test[attr].values\n",
    "        sel, dp_diff, diratio, tprs, fprs, tpr_diff, fpr_diff = group_metrics(y_true, y_pred, sensitive_attr)\n",
    "\n",
    "        print(\" Selection Rates by Group:\")\n",
    "        for group, rate in sel.items():\n",
    "            print(f\"  {group}: {rate:.3f}\")\n",
    "\n",
    "        if dp_diff is not None:\n",
    "            print(f\" Demographic Parity Difference: {dp_diff:.3f}\")\n",
    "            print(f\" Disparate Impact Ratio: {diratio:.3f}\")\n",
    "\n",
    "        print(\" True Positive Rates by Group:\")\n",
    "        for group, rate in tprs.items():\n",
    "            print(f\"  {group}: {rate:.3f}\")\n",
    "\n",
    "        print(\" False Positive Rates by Group:\")\n",
    "        for group, rate in fprs.items():\n",
    "            print(f\"  {group}: {rate:.3f}\")\n",
    "\n",
    "        if tpr_diff is not None and fpr_diff is not None:\n",
    "            print(f\" Equalized Odds TPR Difference: {tpr_diff:.3f}\")\n",
    "            print(f\" Equalized Odds FPR Difference: {fpr_diff:.3f}\\n\")\n",
    "\n",
    "df_train, df_test = train_test_split(df, test_size=0.2, random_state=42)\n",
    "evaluate_fairness_all_attributes(y_test, y_pred, df_test, ['Gender', 'Race'])"
   ]
  },
  {
   "cell_type": "code",
   "execution_count": null,
   "id": "fa700c10-67dd-4ee5-a8ef-af4e35fd1b55",
   "metadata": {},
   "outputs": [],
   "source": []
  },
  {
   "cell_type": "code",
   "execution_count": 21,
   "id": "a94c4439",
   "metadata": {},
   "outputs": [
    {
     "name": "stdout",
     "output_type": "stream",
     "text": [
      "Requirement already satisfied: aif360 in c:\\users\\siddhika more\\anaconda3\\lib\\site-packages (0.6.1)\n",
      "Requirement already satisfied: numpy>=1.16 in c:\\users\\siddhika more\\anaconda3\\lib\\site-packages (from aif360) (1.26.4)\n",
      "Requirement already satisfied: scipy>=1.2.0 in c:\\users\\siddhika more\\anaconda3\\lib\\site-packages (from aif360) (1.11.1)\n",
      "Requirement already satisfied: pandas>=0.24.0 in c:\\users\\siddhika more\\anaconda3\\lib\\site-packages (from aif360) (2.0.3)\n",
      "Requirement already satisfied: scikit-learn>=1.0 in c:\\users\\siddhika more\\anaconda3\\lib\\site-packages (from aif360) (1.3.0)\n",
      "Requirement already satisfied: matplotlib in c:\\users\\siddhika more\\anaconda3\\lib\\site-packages (from aif360) (3.7.2)\n",
      "Requirement already satisfied: python-dateutil>=2.8.2 in c:\\users\\siddhika more\\anaconda3\\lib\\site-packages (from pandas>=0.24.0->aif360) (2.8.2)\n",
      "Requirement already satisfied: pytz>=2020.1 in c:\\users\\siddhika more\\anaconda3\\lib\\site-packages (from pandas>=0.24.0->aif360) (2023.3.post1)\n",
      "Requirement already satisfied: tzdata>=2022.1 in c:\\users\\siddhika more\\anaconda3\\lib\\site-packages (from pandas>=0.24.0->aif360) (2023.3)\n",
      "Requirement already satisfied: joblib>=1.1.1 in c:\\users\\siddhika more\\anaconda3\\lib\\site-packages (from scikit-learn>=1.0->aif360) (1.2.0)\n",
      "Requirement already satisfied: threadpoolctl>=2.0.0 in c:\\users\\siddhika more\\anaconda3\\lib\\site-packages (from scikit-learn>=1.0->aif360) (2.2.0)\n",
      "Requirement already satisfied: contourpy>=1.0.1 in c:\\users\\siddhika more\\anaconda3\\lib\\site-packages (from matplotlib->aif360) (1.0.5)\n",
      "Requirement already satisfied: cycler>=0.10 in c:\\users\\siddhika more\\anaconda3\\lib\\site-packages (from matplotlib->aif360) (0.11.0)\n",
      "Requirement already satisfied: fonttools>=4.22.0 in c:\\users\\siddhika more\\anaconda3\\lib\\site-packages (from matplotlib->aif360) (4.25.0)\n",
      "Requirement already satisfied: kiwisolver>=1.0.1 in c:\\users\\siddhika more\\anaconda3\\lib\\site-packages (from matplotlib->aif360) (1.4.4)\n",
      "Requirement already satisfied: packaging>=20.0 in c:\\users\\siddhika more\\anaconda3\\lib\\site-packages (from matplotlib->aif360) (23.1)\n",
      "Requirement already satisfied: pillow>=6.2.0 in c:\\users\\siddhika more\\anaconda3\\lib\\site-packages (from matplotlib->aif360) (9.4.0)\n",
      "Requirement already satisfied: pyparsing<3.1,>=2.3.1 in c:\\users\\siddhika more\\anaconda3\\lib\\site-packages (from matplotlib->aif360) (3.0.9)\n",
      "Requirement already satisfied: six>=1.5 in c:\\users\\siddhika more\\anaconda3\\lib\\site-packages (from python-dateutil>=2.8.2->pandas>=0.24.0->aif360) (1.16.0)\n",
      "Requirement already satisfied: fairlearn in c:\\users\\siddhika more\\anaconda3\\lib\\site-packages (0.12.0)\n",
      "Requirement already satisfied: numpy>=1.24.4 in c:\\users\\siddhika more\\anaconda3\\lib\\site-packages (from fairlearn) (1.26.4)\n",
      "Requirement already satisfied: pandas>=2.0.3 in c:\\users\\siddhika more\\anaconda3\\lib\\site-packages (from fairlearn) (2.0.3)\n",
      "Requirement already satisfied: scikit-learn>=1.2.1 in c:\\users\\siddhika more\\anaconda3\\lib\\site-packages (from fairlearn) (1.3.0)\n",
      "Requirement already satisfied: scipy>=1.9.3 in c:\\users\\siddhika more\\anaconda3\\lib\\site-packages (from fairlearn) (1.11.1)\n",
      "Requirement already satisfied: python-dateutil>=2.8.2 in c:\\users\\siddhika more\\anaconda3\\lib\\site-packages (from pandas>=2.0.3->fairlearn) (2.8.2)\n",
      "Requirement already satisfied: pytz>=2020.1 in c:\\users\\siddhika more\\anaconda3\\lib\\site-packages (from pandas>=2.0.3->fairlearn) (2023.3.post1)\n",
      "Requirement already satisfied: tzdata>=2022.1 in c:\\users\\siddhika more\\anaconda3\\lib\\site-packages (from pandas>=2.0.3->fairlearn) (2023.3)\n",
      "Requirement already satisfied: joblib>=1.1.1 in c:\\users\\siddhika more\\anaconda3\\lib\\site-packages (from scikit-learn>=1.2.1->fairlearn) (1.2.0)\n",
      "Requirement already satisfied: threadpoolctl>=2.0.0 in c:\\users\\siddhika more\\anaconda3\\lib\\site-packages (from scikit-learn>=1.2.1->fairlearn) (2.2.0)\n",
      "Requirement already satisfied: six>=1.5 in c:\\users\\siddhika more\\anaconda3\\lib\\site-packages (from python-dateutil>=2.8.2->pandas>=2.0.3->fairlearn) (1.16.0)\n"
     ]
    }
   ],
   "source": [
    "!pip install aif360\n",
    "!pip install fairlearn"
   ]
  },
  {
   "cell_type": "code",
   "execution_count": null,
   "id": "cc30435e",
   "metadata": {},
   "outputs": [],
   "source": []
  },
  {
   "cell_type": "code",
   "execution_count": 79,
   "id": "ae9764c2",
   "metadata": {},
   "outputs": [],
   "source": [
    "import pandas as pd\n",
    "from sklearn.model_selection import train_test_split\n",
    "from sklearn.preprocessing import LabelEncoder\n",
    "from sklearn.feature_extraction.text import TfidfVectorizer\n",
    "from scipy.sparse import hstack\n",
    "\n",
    "# Load and preprocess data\n",
    "df = pd.read_csv(\"job_applicant_dataset.csv\")\n",
    "df[[\"Gender\", \"Race\", \"Ethnicity\"]] = df[[\"Gender\", \"Race\", \"Ethnicity\"]].apply(LabelEncoder().fit_transform)\n",
    "text = df[\"Resume\"].fillna(\"\") + \" \" + df[\"Job Description\"].fillna(\"\")\n",
    "X_text = TfidfVectorizer(stop_words=\"english\", max_features=300).fit_transform(text)\n",
    "X = hstack([X_text, df[[\"Age\", \"Gender\", \"Race\", \"Ethnicity\"]].values])\n",
    "\n",
    "# Labels and sensitive attribute\n",
    "y, A = df[\"Best Match\"].values, df[\"Gender\"].values\n",
    "\n",
    "# Train-test split\n",
    "X_train, X_test, y_train, y_test, A_train, A_test = train_test_split(X, y, A, test_size=0.2, random_state=42)\n",
    "\n",
    "# Dense versions for Fairlearn\n",
    "X_train_dense, X_test_dense = X_train.toarray(), X_test.toarray()\n"
   ]
  },
  {
   "cell_type": "code",
   "execution_count": null,
   "id": "952b7cbe",
   "metadata": {},
   "outputs": [],
   "source": []
  },
  {
   "cell_type": "code",
   "execution_count": 80,
   "id": "60cfe4d3",
   "metadata": {},
   "outputs": [
    {
     "name": "stdout",
     "output_type": "stream",
     "text": [
      "Accuracy (Reweighing): 0.535\n",
      "\n",
      "Reweighing Metrics by Gender:\n",
      "        accuracy  selection_rate\n",
      "Gender                          \n",
      "0       0.515996        0.464396\n",
      "1       0.552861        0.567410\n",
      "Overall Accuracy: 0.54\n",
      "Selection Rate Disparity: 0.103014\n"
     ]
    }
   ],
   "source": [
    "import numpy as np\n",
    "import pandas as pd\n",
    "from sklearn.linear_model import LogisticRegression\n",
    "from sklearn.metrics import accuracy_score\n",
    "\n",
    "# Joint and marginal distributions\n",
    "groups, labels = np.unique(A_train), np.unique(y_train)\n",
    "P_y_a = {(y, g): np.mean((y_train == y) & (A_train == g)) for y in labels for g in groups}\n",
    "P_y = {y: np.mean(y_train == y) for y in labels}\n",
    "P_a = {g: np.mean(A_train == g) for g in groups}\n",
    "\n",
    "# Sample weights for reweighing\n",
    "weights = np.array([(P_y[y] * P_a[a]) / max(P_y_a[(y, a)], 1e-6) for y, a in zip(y_train, A_train)])\n",
    "\n",
    "# Train and predict\n",
    "clf = LogisticRegression(max_iter=1000).fit(X_train_dense, y_train, sample_weight=weights)\n",
    "y_pred = clf.predict(X_test_dense)\n",
    "acc = accuracy_score(y_test, y_pred)\n",
    "print(\"Accuracy (Reweighing):\", acc)\n",
    "\n",
    "# Fairness metrics\n",
    "df = pd.DataFrame({\"actual\": y_test, \"pred\": y_pred, \"Gender\": A_test})\n",
    "grouped = df.groupby(\"Gender\").apply(\n",
    "    lambda g: pd.Series({\n",
    "        \"accuracy\": accuracy_score(g[\"actual\"], g[\"pred\"]),\n",
    "        \"selection_rate\": g[\"pred\"].mean()\n",
    "    })\n",
    ")\n",
    "disp = abs(grouped[\"selection_rate\"].max() - grouped[\"selection_rate\"].min())\n",
    "\n",
    "# Output\n",
    "print(\"\\nReweighing Metrics by Gender:\")\n",
    "print(grouped)\n",
    "print(f\"Overall Accuracy: {acc:.2f}\")\n",
    "print(f\"Selection Rate Disparity: {disp:.6f}\")\n"
   ]
  },
  {
   "cell_type": "code",
   "execution_count": null,
   "id": "67acf546",
   "metadata": {},
   "outputs": [],
   "source": []
  },
  {
   "cell_type": "code",
   "execution_count": 82,
   "id": "cfc372bf",
   "metadata": {},
   "outputs": [
    {
     "name": "stdout",
     "output_type": "stream",
     "text": [
      "Accuracy (In-processing EG): 0.5285\n",
      "\n",
      "Exponentiated Gradient (In-processing) Metrics by Gender:\n",
      "        accuracy  selection_rate\n",
      "Gender                          \n",
      "0       0.540764        0.452012\n",
      "1       0.516974        0.527643\n",
      "Overall Accuracy: 0.53\n",
      "Selection Rate Disparity: 0.075631\n"
     ]
    }
   ],
   "source": [
    "from fairlearn.reductions import ExponentiatedGradient, EqualizedOdds\n",
    "from sklearn.linear_model import LogisticRegression\n",
    "from sklearn.metrics import accuracy_score\n",
    "import pandas as pd\n",
    "\n",
    "# Train fair classifier using Exponentiated Gradient\n",
    "eg_model = ExponentiatedGradient(\n",
    "    LogisticRegression(solver='liblinear', max_iter=1000),\n",
    "    EqualizedOdds(),\n",
    "    eps=0.01,\n",
    "    max_iter=1000\n",
    ")\n",
    "eg_model.fit(X_train_dense, y_train, sensitive_features=A_train)\n",
    "y_pred = eg_model.predict(X_test_dense)\n",
    "\n",
    "# Accuracy\n",
    "acc = accuracy_score(y_test, y_pred)\n",
    "print(\"Accuracy (In-processing EG):\", acc)\n",
    "\n",
    "# Fairness metrics by gender\n",
    "df = pd.DataFrame({\"actual\": y_test, \"pred\": y_pred, \"Gender\": A_test})\n",
    "grouped = df.groupby(\"Gender\").apply(lambda g: pd.Series({\n",
    "    \"accuracy\": accuracy_score(g[\"actual\"], g[\"pred\"]),\n",
    "    \"selection_rate\": g[\"pred\"].mean()\n",
    "}))\n",
    "disp = abs(grouped[\"selection_rate\"].max() - grouped[\"selection_rate\"].min())\n",
    "\n",
    "# Output\n",
    "print(\"\\nExponentiated Gradient (In-processing) Metrics by Gender:\")\n",
    "print(grouped)\n",
    "print(f\"Overall Accuracy: {acc:.2f}\")\n",
    "print(f\"Selection Rate Disparity: {disp:.6f}\")\n"
   ]
  },
  {
   "cell_type": "code",
   "execution_count": null,
   "id": "c3cc4d55",
   "metadata": {},
   "outputs": [],
   "source": []
  },
  {
   "cell_type": "code",
   "execution_count": 83,
   "id": "44bc6647",
   "metadata": {},
   "outputs": [
    {
     "name": "stdout",
     "output_type": "stream",
     "text": [
      "Accuracy (Post‑processing TO): 0.5235\n",
      "\n",
      "ThresholdOptimizer (Post-processing) Metrics by Gender:\n",
      "        accuracy  selection_rate\n",
      "Gender                          \n",
      "0       0.601651        0.174407\n",
      "1       0.450048        0.181377\n",
      "Overall Accuracy: 0.52\n",
      "Selection Rate Disparity: 0.006971\n"
     ]
    }
   ],
   "source": [
    "from fairlearn.postprocessing import ThresholdOptimizer\n",
    "from sklearn.linear_model import LogisticRegression\n",
    "from sklearn.metrics import accuracy_score\n",
    "from sklearn.model_selection import train_test_split\n",
    "import pandas as pd\n",
    "\n",
    "# Split training set into subtrain and validation\n",
    "X_sub, X_val, y_sub, y_val, A_sub, A_val = train_test_split(\n",
    "    X_train_dense, y_train, A_train, test_size=0.25, random_state=42, stratify=y_train\n",
    ")\n",
    "\n",
    "# Train base model\n",
    "base_model = LogisticRegression(solver=\"liblinear\", max_iter=1000).fit(X_sub, y_sub)\n",
    "\n",
    "# Fit fairness post-processor on validation set\n",
    "postproc = ThresholdOptimizer(\n",
    "    estimator=base_model,\n",
    "    constraints=\"equalized_odds\",\n",
    "    prefit=True\n",
    ")\n",
    "postproc.fit(X_val, y_val, sensitive_features=A_val)\n",
    "\n",
    "# Predict on test set\n",
    "y_pred = postproc.predict(X_test_dense, sensitive_features=A_test)\n",
    "\n",
    "# Accuracy\n",
    "acc = accuracy_score(y_test, y_pred)\n",
    "print(\"Accuracy (Post‑processing TO):\", acc)\n",
    "\n",
    "# Fairness metrics\n",
    "df = pd.DataFrame({\"actual\": y_test, \"pred\": y_pred, \"Gender\": A_test})\n",
    "grouped = df.groupby(\"Gender\").apply(lambda g: pd.Series({\n",
    "    \"accuracy\": accuracy_score(g[\"actual\"], g[\"pred\"]),\n",
    "    \"selection_rate\": g[\"pred\"].mean()\n",
    "}))\n",
    "disp = abs(grouped[\"selection_rate\"].diff().iloc[-1])\n",
    "\n",
    "# Output\n",
    "print(\"\\nThresholdOptimizer (Post-processing) Metrics by Gender:\")\n",
    "print(grouped)\n",
    "print(f\"Overall Accuracy: {acc:.2f}\")\n",
    "print(f\"Selection Rate Disparity: {disp:.6f}\")"
   ]
  },
  {
   "cell_type": "code",
   "execution_count": null,
   "id": "96773454",
   "metadata": {},
   "outputs": [],
   "source": []
  }
 ],
 "metadata": {
  "kernelspec": {
   "display_name": "Python 3 (ipykernel)",
   "language": "python",
   "name": "python3"
  },
  "language_info": {
   "codemirror_mode": {
    "name": "ipython",
    "version": 3
   },
   "file_extension": ".py",
   "mimetype": "text/x-python",
   "name": "python",
   "nbconvert_exporter": "python",
   "pygments_lexer": "ipython3",
   "version": "3.11.5"
  }
 },
 "nbformat": 4,
 "nbformat_minor": 5
}
